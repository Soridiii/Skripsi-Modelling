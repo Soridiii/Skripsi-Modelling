{
 "cells": [
  {
   "cell_type": "markdown",
   "id": "f83f0ab3",
   "metadata": {},
   "source": [
    "### Import Library dan CSV"
   ]
  },
  {
   "cell_type": "code",
   "execution_count": 1,
   "id": "8901c037",
   "metadata": {},
   "outputs": [],
   "source": [
    "import pandas as pd\n",
    "import re\n",
    "import string\n",
    "\n",
    "from indoNLP.preprocessing import replace_word_elongation, replace_slang"
   ]
  },
  {
   "cell_type": "code",
   "execution_count": 47,
   "id": "b05751cc",
   "metadata": {},
   "outputs": [
    {
     "data": {
      "text/html": [
       "<div>\n",
       "<style scoped>\n",
       "    .dataframe tbody tr th:only-of-type {\n",
       "        vertical-align: middle;\n",
       "    }\n",
       "\n",
       "    .dataframe tbody tr th {\n",
       "        vertical-align: top;\n",
       "    }\n",
       "\n",
       "    .dataframe thead th {\n",
       "        text-align: right;\n",
       "    }\n",
       "</style>\n",
       "<table border=\"1\" class=\"dataframe\">\n",
       "  <thead>\n",
       "    <tr style=\"text-align: right;\">\n",
       "      <th></th>\n",
       "      <th>Tweet</th>\n",
       "      <th>Label</th>\n",
       "    </tr>\n",
       "  </thead>\n",
       "  <tbody>\n",
       "    <tr>\n",
       "      <th>0</th>\n",
       "      <td>ini segala keresahan gua udah mau ilang nihh, ...</td>\n",
       "      <td>Anger</td>\n",
       "    </tr>\n",
       "    <tr>\n",
       "      <th>1</th>\n",
       "      <td>rindumu sajak sentuhan. kalimatku pernah pucat...</td>\n",
       "      <td>Sad</td>\n",
       "    </tr>\n",
       "    <tr>\n",
       "      <th>2</th>\n",
       "      <td>lu tau seberapa gue keselnya? di shop gak ada ...</td>\n",
       "      <td>Anger</td>\n",
       "    </tr>\n",
       "    <tr>\n",
       "      <th>3</th>\n",
       "      <td>wkwkwk takut bgt digigit lgi</td>\n",
       "      <td>Fear</td>\n",
       "    </tr>\n",
       "    <tr>\n",
       "      <th>4</th>\n",
       "      <td>bangun tidur denger dua kabar ga enakin tuh se...</td>\n",
       "      <td>Sad</td>\n",
       "    </tr>\n",
       "  </tbody>\n",
       "</table>\n",
       "</div>"
      ],
      "text/plain": [
       "                                               Tweet  Label\n",
       "0  ini segala keresahan gua udah mau ilang nihh, ...  Anger\n",
       "1  rindumu sajak sentuhan. kalimatku pernah pucat...    Sad\n",
       "2  lu tau seberapa gue keselnya? di shop gak ada ...  Anger\n",
       "3                       wkwkwk takut bgt digigit lgi   Fear\n",
       "4  bangun tidur denger dua kabar ga enakin tuh se...    Sad"
      ]
     },
     "execution_count": 47,
     "metadata": {},
     "output_type": "execute_result"
    }
   ],
   "source": [
    "angerData = pd.read_csv('./data/AngerData.csv', delimiter='\\t')\n",
    "fearData = pd.read_csv('./data/FearData.csv', delimiter='\\t')\n",
    "joyData = pd.read_csv('./data/JoyData.csv', delimiter='\\t')\n",
    "loveData = pd.read_csv('./data/LoveData.csv', delimiter='\\t')\n",
    "sadData = pd.read_csv('./data/SadData.csv', delimiter='\\t')\\\n",
    "    \n",
    "#gabungkan data\n",
    "df = pd.concat([angerData, fearData, joyData, loveData, sadData], ignore_index=True)\n",
    "df = df.sample(frac=1).reset_index(drop=True) #shuffle data\n",
    "\n",
    "df.head()"
   ]
  },
  {
   "cell_type": "code",
   "execution_count": 24,
   "id": "00745b51",
   "metadata": {},
   "outputs": [
    {
     "data": {
      "text/html": [
       "<div>\n",
       "<style scoped>\n",
       "    .dataframe tbody tr th:only-of-type {\n",
       "        vertical-align: middle;\n",
       "    }\n",
       "\n",
       "    .dataframe tbody tr th {\n",
       "        vertical-align: top;\n",
       "    }\n",
       "\n",
       "    .dataframe thead th {\n",
       "        text-align: right;\n",
       "    }\n",
       "</style>\n",
       "<table border=\"1\" class=\"dataframe\">\n",
       "  <thead>\n",
       "    <tr style=\"text-align: right;\">\n",
       "      <th></th>\n",
       "      <th>Tweet</th>\n",
       "      <th>Label</th>\n",
       "    </tr>\n",
       "  </thead>\n",
       "  <tbody>\n",
       "    <tr>\n",
       "      <th>0</th>\n",
       "      <td>lho kirain fest hahahha :')</td>\n",
       "      <td>Takut</td>\n",
       "    </tr>\n",
       "    <tr>\n",
       "      <th>1</th>\n",
       "      <td>berawal dari sahabat eh jadi pacar wkwk, terus...</td>\n",
       "      <td>Cinta</td>\n",
       "    </tr>\n",
       "    <tr>\n",
       "      <th>2</th>\n",
       "      <td>iya cakep, emosi nya dapet banget pagi pagi</td>\n",
       "      <td>Marah</td>\n",
       "    </tr>\n",
       "    <tr>\n",
       "      <th>3</th>\n",
       "      <td>adek w ldks sm pengukuhan osis lewat online, g...</td>\n",
       "      <td>Gembira</td>\n",
       "    </tr>\n",
       "    <tr>\n",
       "      <th>4</th>\n",
       "      <td>kak:( sumpah deh kenapa diksinya bagus banget ...</td>\n",
       "      <td>Cinta</td>\n",
       "    </tr>\n",
       "  </tbody>\n",
       "</table>\n",
       "</div>"
      ],
      "text/plain": [
       "                                               Tweet    Label\n",
       "0                        lho kirain fest hahahha :')    Takut\n",
       "1  berawal dari sahabat eh jadi pacar wkwk, terus...    Cinta\n",
       "2        iya cakep, emosi nya dapet banget pagi pagi    Marah\n",
       "3  adek w ldks sm pengukuhan osis lewat online, g...  Gembira\n",
       "4  kak:( sumpah deh kenapa diksinya bagus banget ...    Cinta"
      ]
     },
     "execution_count": 24,
     "metadata": {},
     "output_type": "execute_result"
    }
   ],
   "source": [
    "# Mengubag nama label menjadi bahasa Indonesia\n",
    "label_mapping = {\n",
    "    'Anger': 'Marah',\n",
    "    'Fear': 'Takut',\n",
    "    'Joy': 'Gembira',\n",
    "    'Love': 'Cinta',\n",
    "    'Sad': 'Sedih'\n",
    "}\n",
    "df['Label'] = df['Label'].map(label_mapping)\n",
    "df.head()"
   ]
  },
  {
   "cell_type": "code",
   "execution_count": 35,
   "id": "4cd74652",
   "metadata": {},
   "outputs": [
    {
     "name": "stdout",
     "output_type": "stream",
     "text": [
      "Tweet    kak:( sumpah deh kenapa diksinya bagus banget gue suka banget anjir implisit yg kaya gini, astaga asli bagus banget\n",
      "Label                                                                                                                  Cinta\n",
      "Name: 4, dtype: object\n"
     ]
    }
   ],
   "source": [
    "with pd.option_context('display.max_colwidth', None):\n",
    "    print(df.iloc[4])"
   ]
  },
  {
   "cell_type": "markdown",
   "id": "1c37853a",
   "metadata": {},
   "source": [
    "### Cleaning Data"
   ]
  },
  {
   "cell_type": "code",
   "execution_count": null,
   "id": "ccbe2a54",
   "metadata": {},
   "outputs": [],
   "source": [
    "def cleanDataframe(df):\n",
    "    print('Missing Values:', df.isnull().sum())\n",
    "    print('Duplicates:', df.duplicated().sum())\n",
    "\n",
    "    df_cleaned = df.dropna(subset='Tweet')\n",
    "    df_cleaned = df_cleaned.drop_duplicates(keep='first')\n",
    "\n",
    "    print('\\nMissing values after cleaning:', df_cleaned.isnull().sum())\n",
    "    print('Duplicates after cleaning:', df_cleaned.duplicated().sum())\n",
    "    return df_cleaned\n",
    "\n",
    "\n",
    "\n",
    "\n",
    "def cleaningText(text):\n",
    "    # Membersihkan tanda tanda sisa medsos\n",
    "    text = re.sub(r'@[A-Za-z0-9]+', '', text)  # Menghapus Mention\n",
    "    text = re.sub(r'#[A-Za-z0-9]+', '', text)  # Menghapus Hashtag\n",
    "    text = re.sub(r'RT[\\s]', '', text)  # menghapus RT\n",
    "    text = re.sub(r\"http\\S+\", '', text)  # menghapus link\n",
    "\n",
    "    # Pembersihan Karakter\n",
    "    \n",
    "    text = text.translate(str.maketrans(string.punctuation, ' ' * len(string.punctuation)))# Mengganti tanda baca dengan spasi (alih-alih menghapus)\n",
    "    text = re.sub(r'\\d+', '', text)  # Menghapus angka\n",
    "    text = text.replace('\\n', ' ')  # Mengganti garis baru dengan spasi\n",
    "    return text\n",
    "\n",
    "\n",
    "kamusCleaning = pd.read_csv('kamus.csv', encoding='utf-8',\n",
    "                            delimiter=',', header=None, names=['slang', 'formal'])\n",
    "cleaningDict = dict(zip(kamusCleaning.slang, kamusCleaning.formal))\n",
    "\n",
    "\n",
    "def applyCleaningDict(text):\n",
    "    # Membersihkan kata yang tidak terbersihkan dari kamus IndoNLP dari kamus tambahan\n",
    "    words = text.split()\n",
    "    cleaned_words = [cleaningDict[word]\n",
    "                     if word in cleaningDict else word for word in words]\n",
    "    cleaned_text = ' '.join(cleaned_words)\n",
    "    return cleaned_text\n",
    "\n",
    "def normalizeText(text):\n",
    "    text = text.strip(' ')  # Menghapus karakter spasi dari kiri dan kanan teks\n",
    "    text = text.lower()  # mengubah semua karakter dalam teks menjadi huruf kecil\n",
    "    text = re.sub(r'(.)\\1+', r'\\1\\1', text) # Menghapus text elongation (library indoNLP)\n",
    "    text = replace_word_elongation(text) # Menghapus huruf berlebih di belakang\n",
    "    text = replace_slang(text)  # Menghapus slangwords dari kamus IndoNLP\n",
    "    text = applyCleaningDict(text) # Membersihkan kata yang tidak terbersihkan dari kamus IndoNLP dari kamus tambahan\n",
    "    text = re.sub(r'\\s+', ' ', text) # Mengganti multiple spasi dengan satu spasi\n",
    "    \n",
    "    return text"
   ]
  },
  {
   "cell_type": "code",
   "execution_count": 26,
   "id": "9ceeef02",
   "metadata": {},
   "outputs": [
    {
     "name": "stdout",
     "output_type": "stream",
     "text": [
      "Missing Values: Tweet    0\n",
      "Label    0\n",
      "dtype: int64\n",
      "Duplicates: 42\n",
      "\n",
      "Missing values after cleaning: Tweet    0\n",
      "Label    0\n",
      "dtype: int64\n",
      "Duplicates after cleaning: 0\n"
     ]
    }
   ],
   "source": [
    "df_cleaned = cleanDataframe(df)"
   ]
  },
  {
   "cell_type": "code",
   "execution_count": 32,
   "id": "b5bfe783",
   "metadata": {},
   "outputs": [
    {
     "name": "stdout",
     "output_type": "stream",
     "text": [
      "Tweet    kak   sumpah deh kenapa diksinya bagus banget gue suka banget anjir implisit yg kaya gini  astaga asli bagus banget\n",
      "Label                                                                                                                  Cinta\n",
      "Name: 4, dtype: object\n"
     ]
    }
   ],
   "source": [
    "df_cleaned['Tweet'] = df_cleaned['Tweet'].apply(cleaningText)\n",
    "# Print 1 sample not truncated\n",
    "with pd.option_context('display.max_colwidth', None):\n",
    "    print(df_cleaned.iloc[4])\n"
   ]
  },
  {
   "cell_type": "code",
   "execution_count": 40,
   "id": "64d812fe",
   "metadata": {},
   "outputs": [
    {
     "name": "stdout",
     "output_type": "stream",
     "text": [
      "Tweet    kak sumpah deh kenapa diksinya bagus sekali saya suka sekali anjir implisit yang mirip begini astaga asli bagus sekali \n",
      "Label                                                                                                                      Cinta\n",
      "Name: 4, dtype: object\n"
     ]
    }
   ],
   "source": [
    "df_normalized = df_cleaned.copy()\n",
    "df_normalized['Tweet'] = df_normalized['Tweet'].apply(normalizeText)\n",
    "# Print 1 sample not truncated\n",
    "with pd.option_context('display.max_colwidth', None):\n",
    "    print(df_normalized.iloc[4])"
   ]
  },
  {
   "cell_type": "code",
   "execution_count": 7,
   "id": "f21c7ba2",
   "metadata": {},
   "outputs": [
    {
     "name": "stdout",
     "output_type": "stream",
     "text": [
      "Label\n",
      "Gembira    1254\n",
      "Marah      1043\n",
      "Sedih       995\n",
      "Takut       906\n",
      "Cinta       754\n",
      "Name: count, dtype: int64\n"
     ]
    }
   ],
   "source": [
    "print(df_cleaned['Label'].value_counts())"
   ]
  },
  {
   "cell_type": "markdown",
   "id": "ae930ad1",
   "metadata": {},
   "source": [
    "### Export Menjadi CSV Baru"
   ]
  },
  {
   "cell_type": "code",
   "execution_count": 8,
   "id": "3b39f4ee",
   "metadata": {},
   "outputs": [],
   "source": [
    "# Export\n",
    "df_cleaned.to_csv('./data/data_cleaned.csv', index=False)"
   ]
  }
 ],
 "metadata": {
  "kernelspec": {
   "display_name": "skripsi",
   "language": "python",
   "name": "python3"
  },
  "language_info": {
   "codemirror_mode": {
    "name": "ipython",
    "version": 3
   },
   "file_extension": ".py",
   "mimetype": "text/x-python",
   "name": "python",
   "nbconvert_exporter": "python",
   "pygments_lexer": "ipython3",
   "version": "3.12.11"
  }
 },
 "nbformat": 4,
 "nbformat_minor": 5
}
