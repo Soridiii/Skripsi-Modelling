{
 "cells": [
  {
   "cell_type": "markdown",
   "id": "f83f0ab3",
   "metadata": {},
   "source": [
    "### Import Library dan CSV"
   ]
  },
  {
   "cell_type": "code",
   "execution_count": 1,
   "id": "8901c037",
   "metadata": {},
   "outputs": [],
   "source": [
    "import pandas as pd\n",
    "import numpy as np\n",
    "import re\n",
    "import unicodedata\n",
    "import string\n",
    "import matplotlib.pyplot as plt\n",
    "import time\n",
    "\n",
    "from indoNLP.preprocessing import replace_word_elongation, replace_slang, remove_stopwords"
   ]
  },
  {
   "cell_type": "code",
   "execution_count": 2,
   "id": "b05751cc",
   "metadata": {},
   "outputs": [
    {
     "data": {
      "text/html": [
       "<div>\n",
       "<style scoped>\n",
       "    .dataframe tbody tr th:only-of-type {\n",
       "        vertical-align: middle;\n",
       "    }\n",
       "\n",
       "    .dataframe tbody tr th {\n",
       "        vertical-align: top;\n",
       "    }\n",
       "\n",
       "    .dataframe thead th {\n",
       "        text-align: right;\n",
       "    }\n",
       "</style>\n",
       "<table border=\"1\" class=\"dataframe\">\n",
       "  <thead>\n",
       "    <tr style=\"text-align: right;\">\n",
       "      <th></th>\n",
       "      <th>Tweet</th>\n",
       "      <th>Label</th>\n",
       "    </tr>\n",
       "  </thead>\n",
       "  <tbody>\n",
       "    <tr>\n",
       "      <th>0</th>\n",
       "      <td>aib? bodoh benar! sebelum kata aib itu muncul,...</td>\n",
       "      <td>Anger</td>\n",
       "    </tr>\n",
       "    <tr>\n",
       "      <th>1</th>\n",
       "      <td>lo takut ga sih anjir selasa depan anjir, trea...</td>\n",
       "      <td>Fear</td>\n",
       "    </tr>\n",
       "    <tr>\n",
       "      <th>2</th>\n",
       "      <td>5 feb, hari ini flight balik jakarta. 12.50. s...</td>\n",
       "      <td>Sad</td>\n",
       "    </tr>\n",
       "    <tr>\n",
       "      <th>3</th>\n",
       "      <td>gajian aja belum, udah ada yang ngomong \"nanti...</td>\n",
       "      <td>Sad</td>\n",
       "    </tr>\n",
       "    <tr>\n",
       "      <th>4</th>\n",
       "      <td>selamat pgi jga pak suryo, salam sehat penuh s...</td>\n",
       "      <td>Joy</td>\n",
       "    </tr>\n",
       "  </tbody>\n",
       "</table>\n",
       "</div>"
      ],
      "text/plain": [
       "                                               Tweet  Label\n",
       "0  aib? bodoh benar! sebelum kata aib itu muncul,...  Anger\n",
       "1  lo takut ga sih anjir selasa depan anjir, trea...   Fear\n",
       "2  5 feb, hari ini flight balik jakarta. 12.50. s...    Sad\n",
       "3  gajian aja belum, udah ada yang ngomong \"nanti...    Sad\n",
       "4  selamat pgi jga pak suryo, salam sehat penuh s...    Joy"
      ]
     },
     "execution_count": 2,
     "metadata": {},
     "output_type": "execute_result"
    }
   ],
   "source": [
    "angerData = pd.read_csv('./data/AngerData.csv', delimiter='\\t')\n",
    "fearData = pd.read_csv('./data/FearData.csv', delimiter='\\t')\n",
    "joyData = pd.read_csv('./data/JoyData.csv', delimiter='\\t')\n",
    "loveData = pd.read_csv('./data/LoveData.csv', delimiter='\\t')\n",
    "sadData = pd.read_csv('./data/SadData.csv', delimiter='\\t')\\\n",
    "    \n",
    "#gabungkan data\n",
    "df = pd.concat([angerData, fearData, joyData, loveData, sadData], ignore_index=True)\n",
    "df = df.sample(frac=1).reset_index(drop=True) #shuffle data\n",
    "\n",
    "df.head()"
   ]
  },
  {
   "cell_type": "code",
   "execution_count": 3,
   "id": "00745b51",
   "metadata": {},
   "outputs": [
    {
     "data": {
      "text/html": [
       "<div>\n",
       "<style scoped>\n",
       "    .dataframe tbody tr th:only-of-type {\n",
       "        vertical-align: middle;\n",
       "    }\n",
       "\n",
       "    .dataframe tbody tr th {\n",
       "        vertical-align: top;\n",
       "    }\n",
       "\n",
       "    .dataframe thead th {\n",
       "        text-align: right;\n",
       "    }\n",
       "</style>\n",
       "<table border=\"1\" class=\"dataframe\">\n",
       "  <thead>\n",
       "    <tr style=\"text-align: right;\">\n",
       "      <th></th>\n",
       "      <th>Tweet</th>\n",
       "      <th>Label</th>\n",
       "    </tr>\n",
       "  </thead>\n",
       "  <tbody>\n",
       "    <tr>\n",
       "      <th>0</th>\n",
       "      <td>aib? bodoh benar! sebelum kata aib itu muncul,...</td>\n",
       "      <td>Marah</td>\n",
       "    </tr>\n",
       "    <tr>\n",
       "      <th>1</th>\n",
       "      <td>lo takut ga sih anjir selasa depan anjir, trea...</td>\n",
       "      <td>Takut</td>\n",
       "    </tr>\n",
       "    <tr>\n",
       "      <th>2</th>\n",
       "      <td>5 feb, hari ini flight balik jakarta. 12.50. s...</td>\n",
       "      <td>Sedih</td>\n",
       "    </tr>\n",
       "    <tr>\n",
       "      <th>3</th>\n",
       "      <td>gajian aja belum, udah ada yang ngomong \"nanti...</td>\n",
       "      <td>Sedih</td>\n",
       "    </tr>\n",
       "    <tr>\n",
       "      <th>4</th>\n",
       "      <td>selamat pgi jga pak suryo, salam sehat penuh s...</td>\n",
       "      <td>Gembira</td>\n",
       "    </tr>\n",
       "  </tbody>\n",
       "</table>\n",
       "</div>"
      ],
      "text/plain": [
       "                                               Tweet    Label\n",
       "0  aib? bodoh benar! sebelum kata aib itu muncul,...    Marah\n",
       "1  lo takut ga sih anjir selasa depan anjir, trea...    Takut\n",
       "2  5 feb, hari ini flight balik jakarta. 12.50. s...    Sedih\n",
       "3  gajian aja belum, udah ada yang ngomong \"nanti...    Sedih\n",
       "4  selamat pgi jga pak suryo, salam sehat penuh s...  Gembira"
      ]
     },
     "execution_count": 3,
     "metadata": {},
     "output_type": "execute_result"
    }
   ],
   "source": [
    "# Mengubag nama label menjadi bahasa Indonesia\n",
    "label_mapping = {\n",
    "    'Anger': 'Marah',\n",
    "    'Fear': 'Takut',\n",
    "    'Joy': 'Gembira',\n",
    "    'Love': 'Cinta',\n",
    "    'Sad': 'Sedih'\n",
    "}\n",
    "df['Label'] = df['Label'].map(label_mapping)\n",
    "df.head()"
   ]
  },
  {
   "cell_type": "markdown",
   "id": "1c37853a",
   "metadata": {},
   "source": [
    "### Cleaning Data"
   ]
  },
  {
   "cell_type": "code",
   "execution_count": 4,
   "id": "ccbe2a54",
   "metadata": {},
   "outputs": [],
   "source": [
    "def cleanDataframe(df):\n",
    "    print('Missing Values:', df.isnull().sum())\n",
    "    print('Duplicates:', df.duplicated().sum())\n",
    "\n",
    "    df_cleaned = df.dropna(subset='Tweet')\n",
    "    df_cleaned = df_cleaned.drop_duplicates(keep='first')\n",
    "\n",
    "    print('\\nMissing values after cleaning:', df_cleaned.isnull().sum())\n",
    "    print('Duplicates after cleaning:', df_cleaned.duplicated().sum())\n",
    "    return df_cleaned\n",
    "\n",
    "\n",
    "kamusCleaning = pd.read_csv('kamus.csv', encoding='utf-8',\n",
    "                           delimiter=';', header=None, names=['slang', 'formal'])\n",
    "cleaningDict = dict(zip(kamusCleaning.slang, kamusCleaning.formal))\n",
    "\n",
    "\n",
    "def applyCleaningDict(text):\n",
    "    # Membersihkan kata yang tidak terbersihkan dari kamus IndoNLP dari kamus tambahan\n",
    "    words = text.split()\n",
    "    cleaned_words = [cleaningDict[word] if word in cleaningDict else word for word in words]\n",
    "    cleaned_text = ' '.join(cleaned_words)\n",
    "    return cleaned_text\n",
    "\n",
    "def cleaningText(text):\n",
    "    # Membersihkan tanda tanda sisa medsos\n",
    "    text = re.sub(r'@[A-Za-z0-9]+', '', text)  # Menghapus Mention\n",
    "    text = re.sub(r'#[A-Za-z0-9]+', '', text)  # Menghapus Hashtag\n",
    "    text = re.sub(r'RT[\\s]', '', text)  # menghapus RT\n",
    "    text = re.sub(r\"http\\S+\", '', text)  # menghapus link\n",
    "\n",
    "    # Pembersihan Karakter\n",
    "    \n",
    "    text = text.translate(str.maketrans(string.punctuation, ' ' * len(string.punctuation)))# Mengganti tanda baca dengan spasi (alih-alih menghapus)\n",
    "    text = re.sub(r'\\d+', '', text)  # Menghapus angka\n",
    "    text = text.replace('\\n', ' ')  # Mengganti garis baru dengan spasi\n",
    "\n",
    "    # Normalisasi\n",
    "    text = text.strip(' ')  # Menghapus karakter spasi dari kiri dan kanan teks\n",
    "    text = text.lower()  # mengubah semua karakter dalam teks menjadi huruf kecil\n",
    "    text = re.sub(r'(.)\\1+', r'\\1\\1', text) # Menghapus text elongation (library indoNLP)\n",
    "    text = replace_word_elongation(text) # Menghapus huruf berlebih di belakang\n",
    "    text = replace_slang(text)  # Menghapus slangwords dari kamus IndoNLP\n",
    "    text = applyCleaningDict(text) # Membersihkan kata yang tidak terbersihkan dari kamus IndoNLP dari kamus tambahan\n",
    "    text = re.sub(r'\\s+', ' ', text) # Mengganti multiple spasi dengan satu spasi\n",
    "    \n",
    "    return text"
   ]
  },
  {
   "cell_type": "code",
   "execution_count": 5,
   "id": "9ceeef02",
   "metadata": {},
   "outputs": [
    {
     "name": "stdout",
     "output_type": "stream",
     "text": [
      "Missing Values: Tweet    0\n",
      "Label    0\n",
      "dtype: int64\n",
      "Duplicates: 42\n",
      "\n",
      "Missing values after cleaning: Tweet    0\n",
      "Label    0\n",
      "dtype: int64\n",
      "Duplicates after cleaning: 0\n"
     ]
    }
   ],
   "source": [
    "df_cleaned = cleanDataframe(df)"
   ]
  },
  {
   "cell_type": "code",
   "execution_count": 6,
   "id": "b5bfe783",
   "metadata": {},
   "outputs": [
    {
     "data": {
      "text/html": [
       "<div>\n",
       "<style scoped>\n",
       "    .dataframe tbody tr th:only-of-type {\n",
       "        vertical-align: middle;\n",
       "    }\n",
       "\n",
       "    .dataframe tbody tr th {\n",
       "        vertical-align: top;\n",
       "    }\n",
       "\n",
       "    .dataframe thead th {\n",
       "        text-align: right;\n",
       "    }\n",
       "</style>\n",
       "<table border=\"1\" class=\"dataframe\">\n",
       "  <thead>\n",
       "    <tr style=\"text-align: right;\">\n",
       "      <th></th>\n",
       "      <th>Tweet</th>\n",
       "      <th>Label</th>\n",
       "    </tr>\n",
       "  </thead>\n",
       "  <tbody>\n",
       "    <tr>\n",
       "      <th>0</th>\n",
       "      <td>aib bodoh benar sebelum kata aib itu muncul te...</td>\n",
       "      <td>Marah</td>\n",
       "    </tr>\n",
       "    <tr>\n",
       "      <th>1</th>\n",
       "      <td>lo takut enggak sih anjir selasa depan anjir t...</td>\n",
       "      <td>Takut</td>\n",
       "    </tr>\n",
       "    <tr>\n",
       "      <th>2</th>\n",
       "      <td>feb hari ini flight balik jakarta sedih degdeg...</td>\n",
       "      <td>Sedih</td>\n",
       "    </tr>\n",
       "    <tr>\n",
       "      <th>3</th>\n",
       "      <td>gajian saja belum sudah ada yang mengomong nan...</td>\n",
       "      <td>Sedih</td>\n",
       "    </tr>\n",
       "    <tr>\n",
       "      <th>4</th>\n",
       "      <td>selamat pagi juga pak suryo salam sehat penuh ...</td>\n",
       "      <td>Gembira</td>\n",
       "    </tr>\n",
       "    <tr>\n",
       "      <th>...</th>\n",
       "      <td>...</td>\n",
       "      <td>...</td>\n",
       "    </tr>\n",
       "    <tr>\n",
       "      <th>4989</th>\n",
       "      <td>kaget banget lagi mam mie terus menonton al of...</td>\n",
       "      <td>Takut</td>\n",
       "    </tr>\n",
       "    <tr>\n",
       "      <th>4990</th>\n",
       "      <td>tahi banget weh ini sudah r mbak mas baru meng...</td>\n",
       "      <td>Marah</td>\n",
       "    </tr>\n",
       "    <tr>\n",
       "      <th>4991</th>\n",
       "      <td>sekalinya dapat au yang gua suka alur ceritany...</td>\n",
       "      <td>Cinta</td>\n",
       "    </tr>\n",
       "    <tr>\n",
       "      <th>4992</th>\n",
       "      <td>tapi child enak banget sih pas sama suara mark...</td>\n",
       "      <td>Gembira</td>\n",
       "    </tr>\n",
       "    <tr>\n",
       "      <th>4993</th>\n",
       "      <td>hai sasa apa kabar jangan lupa sarapan ya minu...</td>\n",
       "      <td>Gembira</td>\n",
       "    </tr>\n",
       "  </tbody>\n",
       "</table>\n",
       "<p>4952 rows × 2 columns</p>\n",
       "</div>"
      ],
      "text/plain": [
       "                                                  Tweet    Label\n",
       "0     aib bodoh benar sebelum kata aib itu muncul te...    Marah\n",
       "1     lo takut enggak sih anjir selasa depan anjir t...    Takut\n",
       "2     feb hari ini flight balik jakarta sedih degdeg...    Sedih\n",
       "3     gajian saja belum sudah ada yang mengomong nan...    Sedih\n",
       "4     selamat pagi juga pak suryo salam sehat penuh ...  Gembira\n",
       "...                                                 ...      ...\n",
       "4989  kaget banget lagi mam mie terus menonton al of...    Takut\n",
       "4990  tahi banget weh ini sudah r mbak mas baru meng...    Marah\n",
       "4991  sekalinya dapat au yang gua suka alur ceritany...    Cinta\n",
       "4992  tapi child enak banget sih pas sama suara mark...  Gembira\n",
       "4993  hai sasa apa kabar jangan lupa sarapan ya minu...  Gembira\n",
       "\n",
       "[4952 rows x 2 columns]"
      ]
     },
     "execution_count": 6,
     "metadata": {},
     "output_type": "execute_result"
    }
   ],
   "source": [
    "df_cleaned['Tweet'] = df_cleaned['Tweet'].apply(cleaningText)\n",
    "df_cleaned"
   ]
  },
  {
   "cell_type": "code",
   "execution_count": 7,
   "id": "f21c7ba2",
   "metadata": {},
   "outputs": [
    {
     "name": "stdout",
     "output_type": "stream",
     "text": [
      "Label\n",
      "Gembira    1254\n",
      "Marah      1043\n",
      "Sedih       995\n",
      "Takut       906\n",
      "Cinta       754\n",
      "Name: count, dtype: int64\n"
     ]
    }
   ],
   "source": [
    "print(df_cleaned['Label'].value_counts())"
   ]
  },
  {
   "cell_type": "markdown",
   "id": "ae930ad1",
   "metadata": {},
   "source": [
    "### Export Menjadi CSV Baru"
   ]
  },
  {
   "cell_type": "code",
   "execution_count": 8,
   "id": "3b39f4ee",
   "metadata": {},
   "outputs": [],
   "source": [
    "# Export\n",
    "df_cleaned.to_csv('./data/data_cleaned.csv', index=False)"
   ]
  }
 ],
 "metadata": {
  "kernelspec": {
   "display_name": "skripsi",
   "language": "python",
   "name": "python3"
  },
  "language_info": {
   "codemirror_mode": {
    "name": "ipython",
    "version": 3
   },
   "file_extension": ".py",
   "mimetype": "text/x-python",
   "name": "python",
   "nbconvert_exporter": "python",
   "pygments_lexer": "ipython3",
   "version": "3.12.11"
  }
 },
 "nbformat": 4,
 "nbformat_minor": 5
}
