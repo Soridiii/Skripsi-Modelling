{
 "cells": [
  {
   "cell_type": "markdown",
   "id": "79c2d884",
   "metadata": {},
   "source": [
    "### Import Library dan Dataset"
   ]
  },
  {
   "cell_type": "code",
   "execution_count": null,
   "id": "dcab1a9e",
   "metadata": {},
   "outputs": [],
   "source": [
    "import pandas as pd\n",
    "import numpy as np\n",
    "import matplotlib.pyplot as plt\n",
    "import seaborn as sns\n",
    "from sklearn.model_selection import train_test_split\n",
    "from sklearn.preprocessing import LabelEncoder\n",
    "\n",
    "import torch\n",
    "from torch.utils.data import DataLoader\n",
    "from torch.optim import AdamW\n",
    "from transformers import (\n",
    "    AutoTokenizer,\n",
    "    AutoModelForSequenceClassification,\n",
    "    DataCollatorWithPadding,\n",
    "    get_scheduler\n",
    ")\n",
    "from datasets import Dataset, DatasetDict\n",
    "from sklearn.metrics import accuracy_score, f1_score, classification_report, confusion_matrix, ConfusionMatrixDisplay\n",
    "from tqdm import tqdm"
   ]
  },
  {
   "cell_type": "code",
   "execution_count": 3,
   "id": "aecd4181",
   "metadata": {},
   "outputs": [
    {
     "data": {
      "text/html": [
       "<div>\n",
       "<style scoped>\n",
       "    .dataframe tbody tr th:only-of-type {\n",
       "        vertical-align: middle;\n",
       "    }\n",
       "\n",
       "    .dataframe tbody tr th {\n",
       "        vertical-align: top;\n",
       "    }\n",
       "\n",
       "    .dataframe thead th {\n",
       "        text-align: right;\n",
       "    }\n",
       "</style>\n",
       "<table border=\"1\" class=\"dataframe\">\n",
       "  <thead>\n",
       "    <tr style=\"text-align: right;\">\n",
       "      <th></th>\n",
       "      <th>Tweet</th>\n",
       "      <th>Label</th>\n",
       "    </tr>\n",
       "  </thead>\n",
       "  <tbody>\n",
       "    <tr>\n",
       "      <th>0</th>\n",
       "      <td>aib bodoh benar sebelum kata aib itu muncul te...</td>\n",
       "      <td>Marah</td>\n",
       "    </tr>\n",
       "    <tr>\n",
       "      <th>1</th>\n",
       "      <td>lo takut enggak sih anjir selasa depan anjir t...</td>\n",
       "      <td>Takut</td>\n",
       "    </tr>\n",
       "    <tr>\n",
       "      <th>2</th>\n",
       "      <td>feb hari ini flight balik jakarta sedih degdeg...</td>\n",
       "      <td>Sedih</td>\n",
       "    </tr>\n",
       "    <tr>\n",
       "      <th>3</th>\n",
       "      <td>gajian saja belum sudah ada yang mengomong nan...</td>\n",
       "      <td>Sedih</td>\n",
       "    </tr>\n",
       "    <tr>\n",
       "      <th>4</th>\n",
       "      <td>selamat pagi juga pak suryo salam sehat penuh ...</td>\n",
       "      <td>Gembira</td>\n",
       "    </tr>\n",
       "  </tbody>\n",
       "</table>\n",
       "</div>"
      ],
      "text/plain": [
       "                                               Tweet    Label\n",
       "0  aib bodoh benar sebelum kata aib itu muncul te...    Marah\n",
       "1  lo takut enggak sih anjir selasa depan anjir t...    Takut\n",
       "2  feb hari ini flight balik jakarta sedih degdeg...    Sedih\n",
       "3  gajian saja belum sudah ada yang mengomong nan...    Sedih\n",
       "4  selamat pagi juga pak suryo salam sehat penuh ...  Gembira"
      ]
     },
     "execution_count": 3,
     "metadata": {},
     "output_type": "execute_result"
    }
   ],
   "source": [
    "df = pd.read_csv('./data/data_cleaned.csv')\n",
    "df.head()"
   ]
  },
  {
   "cell_type": "code",
   "execution_count": 4,
   "id": "09c8c24b",
   "metadata": {},
   "outputs": [
    {
     "name": "stdout",
     "output_type": "stream",
     "text": [
      "2.8.0+cu129\n",
      "True\n",
      "0\n",
      "NVIDIA GeForce RTX 5070\n"
     ]
    }
   ],
   "source": [
    "print(torch.__version__)\n",
    "print(torch.cuda.is_available())\n",
    "print(torch.cuda.current_device())\n",
    "print(torch.cuda.get_device_name())"
   ]
  },
  {
   "cell_type": "markdown",
   "id": "5a8b96f3",
   "metadata": {},
   "source": [
    "### Persiapan Dataset"
   ]
  },
  {
   "cell_type": "code",
   "execution_count": 5,
   "id": "c3f7bc53",
   "metadata": {},
   "outputs": [],
   "source": [
    "label_encoder = LabelEncoder()\n",
    "df[\"LabelEncoded\"] = label_encoder.fit_transform(df[\"Label\"])\n",
    "num_labels = len(label_encoder.classes_)\n",
    "\n",
    "id2label = {i: lab for i, lab in enumerate(label_encoder.classes_)}\n",
    "label2id = {lab: i for i, lab in id2label.items()}"
   ]
  },
  {
   "cell_type": "code",
   "execution_count": 6,
   "id": "3341d7ee",
   "metadata": {},
   "outputs": [],
   "source": [
    "# Splitting Dataset\n",
    "train_texts, temp_texts, train_labels, temp_labels = train_test_split(\n",
    "    df[\"Tweet\"], df[\"LabelEncoded\"], test_size=0.3, stratify=df[\"LabelEncoded\"], random_state=42\n",
    ")\n",
    "\n",
    "val_texts, test_texts, val_labels, test_labels = train_test_split(\n",
    "    temp_texts, temp_labels, test_size=0.5, stratify=temp_labels, random_state=42\n",
    ")"
   ]
  },
  {
   "cell_type": "code",
   "execution_count": 7,
   "id": "63deca95",
   "metadata": {},
   "outputs": [
    {
     "data": {
      "text/plain": [
       "DatasetDict({\n",
       "    train: Dataset({\n",
       "        features: ['text', 'labels'],\n",
       "        num_rows: 3466\n",
       "    })\n",
       "    validation: Dataset({\n",
       "        features: ['text', 'labels'],\n",
       "        num_rows: 743\n",
       "    })\n",
       "    test: Dataset({\n",
       "        features: ['text', 'labels'],\n",
       "        num_rows: 743\n",
       "    })\n",
       "})"
      ]
     },
     "execution_count": 7,
     "metadata": {},
     "output_type": "execute_result"
    }
   ],
   "source": [
    "# Konversi ke Dataset Hugging Face\n",
    "dataset = DatasetDict({\n",
    "    \"train\": Dataset.from_dict({\"text\": list(train_texts), \"labels\": list(train_labels)}),\n",
    "    \"validation\": Dataset.from_dict({\"text\": list(val_texts), \"labels\": list(val_labels)}),\n",
    "    \"test\": Dataset.from_dict({\"text\": list(test_texts), \"labels\": list(test_labels)}),\n",
    "})\n",
    "\n",
    "dataset"
   ]
  },
  {
   "cell_type": "markdown",
   "id": "d7bcc578",
   "metadata": {},
   "source": [
    "### Tokenisasi"
   ]
  },
  {
   "cell_type": "code",
   "execution_count": 8,
   "id": "dfd35dab",
   "metadata": {},
   "outputs": [
    {
     "name": "stderr",
     "output_type": "stream",
     "text": [
      "Map: 100%|██████████| 3466/3466 [00:00<00:00, 24072.66 examples/s]\n",
      "Map: 100%|██████████| 743/743 [00:00<00:00, 28592.63 examples/s]\n",
      "Map: 100%|██████████| 743/743 [00:00<00:00, 29411.63 examples/s]\n"
     ]
    }
   ],
   "source": [
    "# Mengambil Tokenizer dari model IndoBERT\n",
    "MODEL_NAME = \"indobenchmark/indobert-base-p1\"\n",
    "tokenizer = AutoTokenizer.from_pretrained(MODEL_NAME)\n",
    "\n",
    "\n",
    "def tokenize_function(batch):\n",
    "    return tokenizer(\n",
    "        batch[\"text\"],\n",
    "        truncation=True,\n",
    "        padding=\"max_length\",\n",
    "        max_length=128\n",
    "    )\n",
    "\n",
    "\n",
    "tokenized_dataset = dataset.map(tokenize_function, batched=True)\n",
    "tokenized_dataset.set_format(\n",
    "    \"torch\", columns=[\"input_ids\", \"attention_mask\", \"labels\"])"
   ]
  },
  {
   "cell_type": "code",
   "execution_count": 9,
   "id": "642b247a",
   "metadata": {},
   "outputs": [],
   "source": [
    "# Data Batching dan Batch Preparation\n",
    "data_collator = DataCollatorWithPadding(\n",
    "    tokenizer=tokenizer, return_tensors=\"pt\")\n",
    "\n",
    "train_loader = DataLoader(\n",
    "    tokenized_dataset[\"train\"], batch_size=16, shuffle=True, collate_fn=data_collator)\n",
    "val_loader = DataLoader(\n",
    "    tokenized_dataset[\"validation\"], batch_size=16, collate_fn=data_collator)\n",
    "test_loader = DataLoader(\n",
    "    tokenized_dataset[\"test\"], batch_size=16, collate_fn=data_collator)"
   ]
  },
  {
   "cell_type": "markdown",
   "id": "a2d97ae2",
   "metadata": {},
   "source": [
    "### Fine-Tuning"
   ]
  },
  {
   "cell_type": "code",
   "execution_count": 10,
   "id": "6a1d5dcd",
   "metadata": {},
   "outputs": [
    {
     "name": "stderr",
     "output_type": "stream",
     "text": [
      "Some weights of BertForSequenceClassification were not initialized from the model checkpoint at indobenchmark/indobert-base-p1 and are newly initialized: ['classifier.bias', 'classifier.weight']\n",
      "You should probably TRAIN this model on a down-stream task to be able to use it for predictions and inference.\n"
     ]
    }
   ],
   "source": [
    "# Menyiapkan Model untuk Fine-Tuning\n",
    "device = torch.device(\"cuda\" if torch.cuda.is_available() else \"cpu\")\n",
    "\n",
    "model = AutoModelForSequenceClassification.from_pretrained(\n",
    "    \"indobenchmark/indobert-base-p1\",\n",
    "    num_labels=len(label2id)\n",
    ").to(device)"
   ]
  },
  {
   "cell_type": "code",
   "execution_count": 11,
   "id": "7fda19f6",
   "metadata": {},
   "outputs": [],
   "source": [
    "optimizer = AdamW(model.parameters(), lr=2e-5, weight_decay=0.01)\n",
    "\n",
    "num_epochs = 5\n",
    "num_training_steps = num_epochs * len(train_loader)\n",
    "lr_scheduler = get_scheduler(\n",
    "    \"linear\", \n",
    "    optimizer=optimizer, \n",
    "    num_warmup_steps=int(0.1 * num_training_steps),\n",
    "    num_training_steps=num_training_steps\n",
    ")\n",
    "\n",
    "# Loss function\n",
    "loss_fn = torch.nn.CrossEntropyLoss()"
   ]
  },
  {
   "cell_type": "code",
   "execution_count": 12,
   "id": "b7cc1a22",
   "metadata": {},
   "outputs": [
    {
     "name": "stderr",
     "output_type": "stream",
     "text": [
      "Epoch 1/5 - Training: 100%|██████████| 217/217 [00:21<00:00, 10.11it/s, loss=0.3424]\n"
     ]
    },
    {
     "name": "stdout",
     "output_type": "stream",
     "text": [
      "loss: 0.8546 - acc: 0.6867 - f1: 0.6821 - val_loss: 0.5508 - val_acc: 0.8183 - val_f1: 0.8137\n"
     ]
    },
    {
     "name": "stderr",
     "output_type": "stream",
     "text": [
      "Epoch 2/5 - Training: 100%|██████████| 217/217 [00:21<00:00, 10.22it/s, loss=0.0906]\n"
     ]
    },
    {
     "name": "stdout",
     "output_type": "stream",
     "text": [
      "loss: 0.3451 - acc: 0.8883 - f1: 0.8872 - val_loss: 0.4929 - val_acc: 0.8385 - val_f1: 0.8370\n"
     ]
    },
    {
     "name": "stderr",
     "output_type": "stream",
     "text": [
      "Epoch 3/5 - Training: 100%|██████████| 217/217 [00:21<00:00, 10.26it/s, loss=0.0853]\n"
     ]
    },
    {
     "name": "stdout",
     "output_type": "stream",
     "text": [
      "loss: 0.1626 - acc: 0.9547 - f1: 0.9540 - val_loss: 0.5878 - val_acc: 0.8425 - val_f1: 0.8426\n"
     ]
    },
    {
     "name": "stderr",
     "output_type": "stream",
     "text": [
      "Epoch 4/5 - Training: 100%|██████████| 217/217 [00:20<00:00, 10.37it/s, loss=0.0391]\n"
     ]
    },
    {
     "name": "stdout",
     "output_type": "stream",
     "text": [
      "loss: 0.0730 - acc: 0.9821 - f1: 0.9818 - val_loss: 0.6019 - val_acc: 0.8345 - val_f1: 0.8353\n"
     ]
    },
    {
     "name": "stderr",
     "output_type": "stream",
     "text": [
      "Epoch 5/5 - Training: 100%|██████████| 217/217 [00:21<00:00, 10.30it/s, loss=0.0303]\n"
     ]
    },
    {
     "name": "stdout",
     "output_type": "stream",
     "text": [
      "loss: 0.0356 - acc: 0.9928 - f1: 0.9926 - val_loss: 0.6353 - val_acc: 0.8304 - val_f1: 0.8308\n"
     ]
    }
   ],
   "source": [
    "# Training Loop\n",
    "\n",
    "history = {\n",
    "    \"train_loss\": [], \"val_loss\": [],\n",
    "    \"train_acc\":  [], \"val_acc\":  [],\n",
    "    \"train_f1\":   [], \"val_f1\":   []\n",
    "}\n",
    "\n",
    "for epoch in range(num_epochs):\n",
    "    # ---- Training ----\n",
    "    model.train()\n",
    "    train_loss = 0.0\n",
    "    train_preds, train_labels_all = [], []\n",
    "\n",
    "    pbar = tqdm(train_loader, desc=f\"Epoch {epoch+1}/{num_epochs} - Training\")\n",
    "    for batch in pbar:\n",
    "        batch = {k: v.to(device) for k, v in batch.items()}\n",
    "\n",
    "        optimizer.zero_grad()                         \n",
    "        outputs = model(**batch)\n",
    "        loss = loss_fn(outputs.logits, batch[\"labels\"])\n",
    "        loss.backward()\n",
    "        optimizer.step()\n",
    "        lr_scheduler.step()\n",
    "\n",
    "        train_loss += loss.item()\n",
    "        preds = torch.argmax(outputs.logits, dim=1).cpu().numpy()\n",
    "        labels = batch[\"labels\"].cpu().numpy()\n",
    "        train_preds.extend(preds)\n",
    "        train_labels_all.extend(labels)\n",
    "\n",
    "        pbar.set_postfix({\"loss\": f\"{loss.item():.4f}\"})\n",
    "\n",
    "    avg_train_loss = train_loss / len(train_loader)\n",
    "    train_acc = accuracy_score(train_labels_all, train_preds)\n",
    "    train_f1 = f1_score(train_labels_all, train_preds, average=\"macro\")\n",
    "\n",
    "    # ---- Validation ----\n",
    "    model.eval()\n",
    "    val_loss = 0.0\n",
    "    val_preds, val_labels_all = [], []\n",
    "    with torch.no_grad():\n",
    "        for batch in val_loader:\n",
    "            batch = {k: v.to(device) for k, v in batch.items()}\n",
    "            outputs = model(**batch)\n",
    "            loss = loss_fn(outputs.logits, batch[\"labels\"])\n",
    "            val_loss += loss.item()\n",
    "\n",
    "            preds = torch.argmax(outputs.logits, dim=1).cpu().numpy()\n",
    "            labels = batch[\"labels\"].cpu().numpy()\n",
    "            val_preds.extend(preds)\n",
    "            val_labels_all.extend(labels)\n",
    "\n",
    "    avg_val_loss = val_loss / len(val_loader)\n",
    "    val_acc = accuracy_score(val_labels_all, val_preds)\n",
    "    val_f1 = f1_score(val_labels_all, val_preds, average=\"macro\")\n",
    "\n",
    "    # simpan history\n",
    "    history[\"train_loss\"].append(avg_train_loss)\n",
    "    history[\"val_loss\"].append(avg_val_loss)\n",
    "    history[\"train_acc\"].append(train_acc)\n",
    "    history[\"val_acc\"].append(val_acc)\n",
    "    history[\"train_f1\"].append(train_f1)\n",
    "    history[\"val_f1\"].append(val_f1)\n",
    "\n",
    "    # tampilkan ringkasan per-epoch (mirip TF)\n",
    "    print(\n",
    "        f\"loss: {avg_train_loss:.4f} - acc: {train_acc:.4f} - f1: {train_f1:.4f} - \"\n",
    "        f\"val_loss: {avg_val_loss:.4f} - val_acc: {val_acc:.4f} - val_f1: {val_f1:.4f}\"\n",
    "    )"
   ]
  },
  {
   "cell_type": "code",
   "execution_count": null,
   "id": "16f35ca2",
   "metadata": {},
   "outputs": [
    {
     "data": {
      "image/png": "[encoded data removed]",
      "text/plain": [
       "<Figure size 1200x500 with 2 Axes>"
      ]
     },
     "metadata": {},
     "output_type": "display_data"
    }
   ],
   "source": [
    "# Plot Training History\n",
    "\n",
    "plt.figure(figsize=(12, 5))\n",
    "\n",
    "# Accuracy\n",
    "plt.subplot(1, 2, 1)\n",
    "plt.plot(history[\"train_acc\"], label=\"Train Acc\")\n",
    "plt.plot(history[\"val_acc\"], label=\"Val Acc\")\n",
    "plt.title(\"Accuracy per Epoch\")\n",
    "plt.xlabel(\"Epoch\")\n",
    "plt.ylabel(\"Accuracy\")\n",
    "plt.legend()\n",
    "\n",
    "# Loss\n",
    "plt.subplot(1, 2, 2)\n",
    "plt.plot(history[\"train_loss\"], label=\"Train Loss\")\n",
    "plt.plot(history[\"val_loss\"], label=\"Val Loss\")\n",
    "plt.title(\"Loss per Epoch\")\n",
    "plt.xlabel(\"Epoch\")\n",
    "plt.ylabel(\"Loss\")\n",
    "plt.legend()\n",
    "\n",
    "plt.tight_layout()\n",
    "plt.show()"
   ]
  },
  {
   "cell_type": "markdown",
   "id": "5d975187",
   "metadata": {},
   "source": [
    "### Evaluasi"
   ]
  },
  {
   "cell_type": "code",
   "execution_count": 21,
   "id": "69b70400",
   "metadata": {},
   "outputs": [
    {
     "name": "stdout",
     "output_type": "stream",
     "text": [
      "\n",
      "Classification Report:\n",
      "              precision    recall  f1-score   support\n",
      "\n",
      "       Cinta       0.85      0.84      0.84       113\n",
      "     Gembira       0.90      0.85      0.88       188\n",
      "       Marah       0.85      0.84      0.85       157\n",
      "       Sedih       0.82      0.89      0.85       149\n",
      "       Takut       0.88      0.90      0.89       136\n",
      "\n",
      "    accuracy                           0.86       743\n",
      "   macro avg       0.86      0.86      0.86       743\n",
      "weighted avg       0.86      0.86      0.86       743\n",
      "\n"
     ]
    }
   ],
   "source": [
    "# Evaluasi\n",
    "model.eval()\n",
    "test_preds, test_labels_all = [], []\n",
    "with torch.no_grad():\n",
    "    for batch in test_loader:\n",
    "        batch = {k: v.to(device) for k, v in batch.items()}\n",
    "        outputs = model(**batch)\n",
    "        preds = torch.argmax(outputs.logits, dim=1).cpu().numpy()\n",
    "        labels = batch[\"labels\"].cpu().numpy()\n",
    "        test_preds.extend(preds)\n",
    "        test_labels_all.extend(labels)\n",
    "        \n",
    "# Classification Report\n",
    "print(\"\\nClassification Report:\")\n",
    "print(classification_report(test_labels_all,\n",
    "      test_preds, target_names=label2id.keys()))"
   ]
  },
  {
   "cell_type": "code",
   "execution_count": 22,
   "id": "a163c5cf",
   "metadata": {},
   "outputs": [
    {
     "data": {
      "image/png": "[encoded data removed]",
      "text/plain": [
       "<Figure size 640x480 with 2 Axes>"
      ]
     },
     "metadata": {},
     "output_type": "display_data"
    }
   ],
   "source": [
    "# Confusion Matrix\n",
    "cm = confusion_matrix(test_labels_all, test_preds)\n",
    "disp = ConfusionMatrixDisplay(\n",
    "    confusion_matrix=cm, display_labels=label2id.keys())\n",
    "disp.plot(cmap=plt.cm.Blues)\n",
    "plt.title(\"Confusion Matrix\")\n",
    "plt.show()"
   ]
  }
 ],
 "metadata": {
  "kernelspec": {
   "display_name": "skripsi",
   "language": "python",
   "name": "python3"
  },
  "language_info": {
   "codemirror_mode": {
    "name": "ipython",
    "version": 3
   },
   "file_extension": ".py",
   "mimetype": "text/x-python",
   "name": "python",
   "nbconvert_exporter": "python",
   "pygments_lexer": "ipython3",
   "version": "3.12.11"
  }
 },
 "nbformat": 4,
 "nbformat_minor": 5
}
