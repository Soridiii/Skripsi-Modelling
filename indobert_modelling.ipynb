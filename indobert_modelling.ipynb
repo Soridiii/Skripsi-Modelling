{
 "cells": [
  {
   "cell_type": "markdown",
   "id": "79c2d884",
   "metadata": {},
   "source": [
    "### Import Library dan Dataset"
   ]
  },
  {
   "cell_type": "code",
   "execution_count": 1,
   "id": "dcab1a9e",
   "metadata": {},
   "outputs": [
    {
     "name": "stderr",
     "output_type": "stream",
     "text": [
      "/home/sorr/anaconda3/envs/skripsi/lib/python3.12/site-packages/tqdm/auto.py:21: TqdmWarning: IProgress not found. Please update jupyter and ipywidgets. See https://ipywidgets.readthedocs.io/en/stable/user_install.html\n",
      "  from .autonotebook import tqdm as notebook_tqdm\n"
     ]
    }
   ],
   "source": [
    "import random\n",
    "import pandas as pd\n",
    "import numpy as np\n",
    "import matplotlib.pyplot as plt\n",
    "import seaborn as sns\n",
    "from sklearn.model_selection import train_test_split\n",
    "from sklearn.preprocessing import LabelEncoder\n",
    "\n",
    "import torch\n",
    "from torch.utils.data import DataLoader\n",
    "from torch.optim import AdamW\n",
    "from transformers import (\n",
    "    AutoTokenizer,\n",
    "    AutoModelForSequenceClassification,\n",
    "    DataCollatorWithPadding,\n",
    "    get_scheduler\n",
    ")\n",
    "from datasets import Dataset, DatasetDict\n",
    "from sklearn.metrics import accuracy_score, accuracy_score, classification_report, confusion_matrix, ConfusionMatrixDisplay\n",
    "from tqdm import tqdm"
   ]
  },
  {
   "cell_type": "code",
   "execution_count": 2,
   "id": "aecd4181",
   "metadata": {},
   "outputs": [
    {
     "data": {
      "text/html": [
       "<div>\n",
       "<style scoped>\n",
       "    .dataframe tbody tr th:only-of-type {\n",
       "        vertical-align: middle;\n",
       "    }\n",
       "\n",
       "    .dataframe tbody tr th {\n",
       "        vertical-align: top;\n",
       "    }\n",
       "\n",
       "    .dataframe thead th {\n",
       "        text-align: right;\n",
       "    }\n",
       "</style>\n",
       "<table border=\"1\" class=\"dataframe\">\n",
       "  <thead>\n",
       "    <tr style=\"text-align: right;\">\n",
       "      <th></th>\n",
       "      <th>Tweet</th>\n",
       "      <th>Label</th>\n",
       "    </tr>\n",
       "  </thead>\n",
       "  <tbody>\n",
       "    <tr>\n",
       "      <th>0</th>\n",
       "      <td>aib bodoh benar sebelum kata aib itu muncul te...</td>\n",
       "      <td>Marah</td>\n",
       "    </tr>\n",
       "    <tr>\n",
       "      <th>1</th>\n",
       "      <td>lo takut enggak sih anjir selasa depan anjir t...</td>\n",
       "      <td>Takut</td>\n",
       "    </tr>\n",
       "    <tr>\n",
       "      <th>2</th>\n",
       "      <td>feb hari ini flight balik jakarta sedih degdeg...</td>\n",
       "      <td>Sedih</td>\n",
       "    </tr>\n",
       "    <tr>\n",
       "      <th>3</th>\n",
       "      <td>gajian saja belum sudah ada yang mengomong nan...</td>\n",
       "      <td>Sedih</td>\n",
       "    </tr>\n",
       "    <tr>\n",
       "      <th>4</th>\n",
       "      <td>selamat pagi juga pak suryo salam sehat penuh ...</td>\n",
       "      <td>Gembira</td>\n",
       "    </tr>\n",
       "  </tbody>\n",
       "</table>\n",
       "</div>"
      ],
      "text/plain": [
       "                                               Tweet    Label\n",
       "0  aib bodoh benar sebelum kata aib itu muncul te...    Marah\n",
       "1  lo takut enggak sih anjir selasa depan anjir t...    Takut\n",
       "2  feb hari ini flight balik jakarta sedih degdeg...    Sedih\n",
       "3  gajian saja belum sudah ada yang mengomong nan...    Sedih\n",
       "4  selamat pagi juga pak suryo salam sehat penuh ...  Gembira"
      ]
     },
     "execution_count": 2,
     "metadata": {},
     "output_type": "execute_result"
    }
   ],
   "source": [
    "df = pd.read_csv('./data/data_cleaned.csv')\n",
    "df.head()"
   ]
  },
  {
   "cell_type": "code",
   "execution_count": 3,
   "id": "09c8c24b",
   "metadata": {},
   "outputs": [
    {
     "name": "stdout",
     "output_type": "stream",
     "text": [
      "2.8.0+cu129\n",
      "True\n",
      "0\n",
      "NVIDIA GeForce RTX 5070\n"
     ]
    }
   ],
   "source": [
    "print(torch.__version__)\n",
    "print(torch.cuda.is_available())\n",
    "print(torch.cuda.current_device())\n",
    "print(torch.cuda.get_device_name())"
   ]
  },
  {
   "cell_type": "markdown",
   "id": "7e05de2e",
   "metadata": {},
   "source": [
    "### Menyamakan Seed"
   ]
  },
  {
   "cell_type": "code",
   "execution_count": 4,
   "id": "b2573b61",
   "metadata": {},
   "outputs": [],
   "source": [
    "def set_seed(seed):\n",
    "    random.seed(seed)\n",
    "    np.random.seed(seed)\n",
    "    torch.manual_seed(seed)\n",
    "    torch.cuda.manual_seed_all(seed)\n",
    "    torch.backends.cudnn.deterministic = True\n",
    "set_seed(42)"
   ]
  },
  {
   "cell_type": "markdown",
   "id": "5a8b96f3",
   "metadata": {},
   "source": [
    "### Persiapan Dataset"
   ]
  },
  {
   "cell_type": "code",
   "execution_count": 5,
   "id": "c3f7bc53",
   "metadata": {},
   "outputs": [],
   "source": [
    "label_encoder = LabelEncoder()\n",
    "df[\"LabelEncoded\"] = label_encoder.fit_transform(df[\"Label\"])\n",
    "num_labels = len(label_encoder.classes_)\n",
    "\n",
    "id2label = {i: lab for i, lab in enumerate(label_encoder.classes_)}\n",
    "label2id = {lab: i for i, lab in id2label.items()}"
   ]
  },
  {
   "cell_type": "code",
   "execution_count": 6,
   "id": "3341d7ee",
   "metadata": {},
   "outputs": [],
   "source": [
    "# Splitting Dataset\n",
    "train_texts, temp_texts, train_labels, temp_labels = train_test_split(\n",
    "    df[\"Tweet\"], df[\"LabelEncoded\"], test_size=0.3, stratify=df[\"LabelEncoded\"], random_state=42\n",
    ")\n",
    "\n",
    "val_texts, test_texts, val_labels, test_labels = train_test_split(\n",
    "    temp_texts, temp_labels, test_size=0.5, stratify=temp_labels, random_state=42\n",
    ")"
   ]
  },
  {
   "cell_type": "code",
   "execution_count": 7,
   "id": "63deca95",
   "metadata": {},
   "outputs": [
    {
     "data": {
      "text/plain": [
       "DatasetDict({\n",
       "    train: Dataset({\n",
       "        features: ['text', 'labels'],\n",
       "        num_rows: 3466\n",
       "    })\n",
       "    validation: Dataset({\n",
       "        features: ['text', 'labels'],\n",
       "        num_rows: 743\n",
       "    })\n",
       "    test: Dataset({\n",
       "        features: ['text', 'labels'],\n",
       "        num_rows: 743\n",
       "    })\n",
       "})"
      ]
     },
     "execution_count": 7,
     "metadata": {},
     "output_type": "execute_result"
    }
   ],
   "source": [
    "# Konversi ke Dataset Hugging Face\n",
    "dataset = DatasetDict({\n",
    "    \"train\": Dataset.from_dict({\"text\": list(train_texts), \"labels\": list(train_labels)}),\n",
    "    \"validation\": Dataset.from_dict({\"text\": list(val_texts), \"labels\": list(val_labels)}),\n",
    "    \"test\": Dataset.from_dict({\"text\": list(test_texts), \"labels\": list(test_labels)}),\n",
    "})\n",
    "\n",
    "dataset"
   ]
  },
  {
   "cell_type": "markdown",
   "id": "d7bcc578",
   "metadata": {},
   "source": [
    "### Tokenisasi"
   ]
  },
  {
   "cell_type": "code",
   "execution_count": 8,
   "id": "dfd35dab",
   "metadata": {},
   "outputs": [
    {
     "name": "stderr",
     "output_type": "stream",
     "text": [
      "Map: 100%|██████████| 3466/3466 [00:00<00:00, 31844.08 examples/s]\n",
      "Map: 100%|██████████| 743/743 [00:00<00:00, 31237.09 examples/s]\n",
      "Map: 100%|██████████| 743/743 [00:00<00:00, 31994.58 examples/s]\n"
     ]
    }
   ],
   "source": [
    "# Mengambil Tokenizer dari model IndoBERT\n",
    "MODEL_NAME = \"indobenchmark/indobert-base-p1\"\n",
    "tokenizer = AutoTokenizer.from_pretrained(MODEL_NAME)\n",
    "\n",
    "\n",
    "def tokenize_function(batch):\n",
    "    return tokenizer(\n",
    "        batch[\"text\"],\n",
    "        truncation=True,\n",
    "        padding=\"max_length\",\n",
    "        max_length=128\n",
    "    )\n",
    "\n",
    "\n",
    "tokenized_dataset = dataset.map(tokenize_function, batched=True)\n",
    "tokenized_dataset.set_format(\n",
    "    \"torch\", columns=[\"input_ids\", \"attention_mask\", \"labels\"])"
   ]
  },
  {
   "cell_type": "code",
   "execution_count": 9,
   "id": "642b247a",
   "metadata": {},
   "outputs": [],
   "source": [
    "# Data Batching dan Batch Preparation\n",
    "data_collator = DataCollatorWithPadding(\n",
    "    tokenizer=tokenizer, return_tensors=\"pt\")\n",
    "\n",
    "train_loader = DataLoader(\n",
    "    tokenized_dataset[\"train\"], batch_size=16, shuffle=True, collate_fn=data_collator)\n",
    "val_loader = DataLoader(\n",
    "    tokenized_dataset[\"validation\"], batch_size=16, collate_fn=data_collator)\n",
    "test_loader = DataLoader(\n",
    "    tokenized_dataset[\"test\"], batch_size=16, collate_fn=data_collator)"
   ]
  },
  {
   "cell_type": "markdown",
   "id": "a2d97ae2",
   "metadata": {},
   "source": [
    "### Fine-Tuning (Menggunakan Hyperparameter Tuning Optuna)"
   ]
  },
  {
   "cell_type": "code",
   "execution_count": 10,
   "id": "201cb992",
   "metadata": {},
   "outputs": [],
   "source": [
    "device = torch.device(\"cuda\" if torch.cuda.is_available() else \"cpu\")"
   ]
  },
  {
   "cell_type": "code",
   "execution_count": 11,
   "id": "6a1d5dcd",
   "metadata": {},
   "outputs": [
    {
     "name": "stderr",
     "output_type": "stream",
     "text": [
      "Some weights of BertForSequenceClassification were not initialized from the model checkpoint at indobenchmark/indobert-base-p1 and are newly initialized: ['classifier.bias', 'classifier.weight']\n",
      "You should probably TRAIN this model on a down-stream task to be able to use it for predictions and inference.\n"
     ]
    }
   ],
   "source": [
    "# Menyiapkan Model untuk Fine-Tuning\n",
    "device = torch.device(\"cuda\" if torch.cuda.is_available() else \"cpu\")\n",
    "\n",
    "model = AutoModelForSequenceClassification.from_pretrained(\n",
    "    \"indobenchmark/indobert-base-p1\",\n",
    "    num_labels=len(label2id)\n",
    ").to(device)"
   ]
  },
  {
   "cell_type": "code",
   "execution_count": 12,
   "id": "7fda19f6",
   "metadata": {},
   "outputs": [],
   "source": [
    "optimizer = AdamW(model.parameters(), lr=2e-5, weight_decay=0.01)\n",
    "\n",
    "num_epochs = 3\n",
    "num_training_steps = num_epochs * len(train_loader)\n",
    "lr_scheduler = get_scheduler(\n",
    "    \"linear\", \n",
    "    optimizer=optimizer, \n",
    "    num_warmup_steps = 0,\n",
    "    num_training_steps=num_training_steps\n",
    ")\n",
    "loss_fn = torch.nn.CrossEntropyLoss()"
   ]
  },
  {
   "cell_type": "code",
   "execution_count": 13,
   "id": "b7cc1a22",
   "metadata": {},
   "outputs": [
    {
     "name": "stderr",
     "output_type": "stream",
     "text": [
      "Epoch 1/3 - Training: 100%|██████████| 217/217 [00:22<00:00,  9.69it/s, loss=0.5445]\n"
     ]
    },
    {
     "name": "stdout",
     "output_type": "stream",
     "text": [
      "loss: 0.6902 - acc: 0.7553 - val_loss: 0.4759 - val_acc: 0.8546\n"
     ]
    },
    {
     "name": "stderr",
     "output_type": "stream",
     "text": [
      "Epoch 2/3 - Training: 100%|██████████| 217/217 [00:19<00:00, 11.27it/s, loss=0.1135]\n"
     ]
    },
    {
     "name": "stdout",
     "output_type": "stream",
     "text": [
      "loss: 0.2874 - acc: 0.9091 - val_loss: 0.5072 - val_acc: 0.8520\n"
     ]
    },
    {
     "name": "stderr",
     "output_type": "stream",
     "text": [
      "Epoch 3/3 - Training: 100%|██████████| 217/217 [00:21<00:00,  9.96it/s, loss=0.0406]\n"
     ]
    },
    {
     "name": "stdout",
     "output_type": "stream",
     "text": [
      "loss: 0.1513 - acc: 0.9587 - val_loss: 0.5162 - val_acc: 0.8493\n"
     ]
    }
   ],
   "source": [
    "# Training Loop\n",
    "history = {\n",
    "    \"train_loss\": [], \"val_loss\": [],\n",
    "    \"train_acc\":  [], \"val_acc\":  [],\n",
    "}\n",
    "\n",
    "for epoch in range(num_epochs):\n",
    "    # ---- Training ----\n",
    "    model.train()\n",
    "    train_loss = 0.0\n",
    "    train_preds, train_labels_all = [], []\n",
    "\n",
    "    pbar = tqdm(train_loader, desc=f\"Epoch {epoch+1}/{num_epochs} - Training\")\n",
    "    for batch in pbar:\n",
    "        batch = {k: v.to(device) for k, v in batch.items()}\n",
    "\n",
    "        optimizer.zero_grad()                         \n",
    "        outputs = model(**batch)\n",
    "        loss = loss_fn(outputs.logits, batch[\"labels\"])\n",
    "        loss.backward()\n",
    "        optimizer.step()\n",
    "        lr_scheduler.step()\n",
    "\n",
    "        train_loss += loss.item()\n",
    "        preds = torch.argmax(outputs.logits, dim=1).cpu().numpy()\n",
    "        labels = batch[\"labels\"].cpu().numpy()\n",
    "        train_preds.extend(preds)\n",
    "        train_labels_all.extend(labels)\n",
    "\n",
    "        pbar.set_postfix({\"loss\": f\"{loss.item():.4f}\"})\n",
    "\n",
    "    avg_train_loss = train_loss / len(train_loader)\n",
    "    train_acc = accuracy_score(train_labels_all, train_preds)\n",
    "\n",
    "    # ---- Validation ----\n",
    "    model.eval()\n",
    "    val_loss = 0.0\n",
    "    val_preds, val_labels_all = [], []\n",
    "    with torch.no_grad():\n",
    "        for batch in val_loader:\n",
    "            batch = {k: v.to(device) for k, v in batch.items()}\n",
    "            outputs = model(**batch)\n",
    "            loss = loss_fn(outputs.logits, batch[\"labels\"])\n",
    "            val_loss += loss.item()\n",
    "\n",
    "            preds = torch.argmax(outputs.logits, dim=1).cpu().numpy()\n",
    "            labels = batch[\"labels\"].cpu().numpy()\n",
    "            val_preds.extend(preds)\n",
    "            val_labels_all.extend(labels)\n",
    "\n",
    "    avg_val_loss = val_loss / len(val_loader)\n",
    "    val_acc = accuracy_score(val_labels_all, val_preds)\n",
    "\n",
    "    # simpan history\n",
    "    history[\"train_loss\"].append(avg_train_loss)\n",
    "    history[\"val_loss\"].append(avg_val_loss)\n",
    "    history[\"train_acc\"].append(train_acc)\n",
    "    history[\"val_acc\"].append(val_acc)\n",
    "\n",
    "\n",
    "    # tampilkan ringkasan per-epoch\n",
    "    print(\n",
    "        f\"loss: {avg_train_loss:.4f} - acc: {train_acc:.4f} - \"\n",
    "        f\"val_loss: {avg_val_loss:.4f} - val_acc: {val_acc:.4f}\"\n",
    "    )"
   ]
  },
  {
   "cell_type": "code",
   "execution_count": 14,
   "id": "16f35ca2",
   "metadata": {},
   "outputs": [
    {
     "data": {
      "image/png": "[encoded data removed]",
      "text/plain": [
       "<Figure size 1200x500 with 2 Axes>"
      ]
     },
     "metadata": {},
     "output_type": "display_data"
    }
   ],
   "source": [
    "plt.figure(figsize=(12, 5))\n",
    "epochs = range(1, len(history[\"train_acc\"]) + 1)\n",
    "\n",
    "# Accuracy\n",
    "plt.subplot(1, 2, 1)\n",
    "plt.plot(epochs, history[\"train_acc\"], marker='o', label=\"Train Acc\")\n",
    "plt.plot(epochs, history[\"val_acc\"], marker='o', label=\"Val Acc\")\n",
    "plt.title(\"Accuracy per Epoch\")\n",
    "plt.xlabel(\"Epoch\")\n",
    "plt.ylabel(\"Accuracy\")\n",
    "plt.xticks(epochs)\n",
    "plt.xlim(0.5, len(epochs) + 0.5)\n",
    "plt.legend()\n",
    "plt.grid(True)\n",
    "\n",
    "# Loss\n",
    "plt.subplot(1, 2, 2)\n",
    "plt.plot(epochs, history[\"train_loss\"], marker='o', label=\"Train Loss\")\n",
    "plt.plot(epochs, history[\"val_loss\"], marker='o', label=\"Val Loss\")\n",
    "plt.title(\"Loss per Epoch\")\n",
    "plt.xlabel(\"Epoch\")\n",
    "plt.ylabel(\"Loss\")\n",
    "plt.xticks(epochs)\n",
    "plt.xlim(0.5, len(epochs) + 0.5)\n",
    "plt.legend()\n",
    "plt.grid(True)\n",
    "\n",
    "plt.tight_layout()\n",
    "plt.show()\n"
   ]
  },
  {
   "cell_type": "markdown",
   "id": "5d975187",
   "metadata": {},
   "source": [
    "### Evaluasi"
   ]
  },
  {
   "cell_type": "code",
   "execution_count": 15,
   "id": "69b70400",
   "metadata": {},
   "outputs": [
    {
     "name": "stdout",
     "output_type": "stream",
     "text": [
      "Akurasi Training Set: 0.9786\n",
      "Akurasi Test Set: 0.8425\n"
     ]
    }
   ],
   "source": [
    "# Evaluasi\n",
    "model.eval()\n",
    "train_preds, train_labels_all = [], []\n",
    "with torch.no_grad():\n",
    "    for batch in train_loader:\n",
    "        batch = {k: v.to(device) for k, v in batch.items()}\n",
    "        outputs = model(**batch)\n",
    "        preds = torch.argmax(outputs.logits, dim=1).cpu().numpy()\n",
    "        labels = batch[\"labels\"].cpu().numpy()\n",
    "        train_preds.extend(preds)\n",
    "        train_labels_all.extend(labels)\n",
    "\n",
    "train_acc = accuracy_score(train_labels_all, train_preds)\n",
    "\n",
    "# Evaluasi pada TEST SET\n",
    "test_preds, test_labels_all = [], []\n",
    "with torch.no_grad():\n",
    "    for batch in test_loader:\n",
    "        batch = {k: v.to(device) for k, v in batch.items()}\n",
    "        outputs = model(**batch)\n",
    "        preds = torch.argmax(outputs.logits, dim=1).cpu().numpy()\n",
    "        labels = batch[\"labels\"].cpu().numpy()\n",
    "        test_preds.extend(preds)\n",
    "        test_labels_all.extend(labels)\n",
    "\n",
    "test_acc = accuracy_score(test_labels_all, test_preds)\n",
    "\n",
    "print(f\"Akurasi Training Set: {train_acc:.4f}\")\n",
    "print(f\"Akurasi Test Set: {test_acc:.4f}\")"
   ]
  },
  {
   "cell_type": "code",
   "execution_count": 16,
   "id": "ec7ca3e8",
   "metadata": {},
   "outputs": [
    {
     "name": "stdout",
     "output_type": "stream",
     "text": [
      "\n",
      "Classification Report:\n",
      "              precision    recall  f1-score   support\n",
      "\n",
      "       Cinta     0.7895    0.7965    0.7930       113\n",
      "     Gembira     0.9048    0.8085    0.8539       188\n",
      "       Marah     0.8354    0.8408    0.8381       157\n",
      "       Sedih     0.7892    0.8792    0.8317       149\n",
      "       Takut     0.8832    0.8897    0.8864       136\n",
      "\n",
      "    accuracy                         0.8425       743\n",
      "   macro avg     0.8404    0.8429    0.8406       743\n",
      "weighted avg     0.8455    0.8425    0.8428       743\n",
      "\n"
     ]
    }
   ],
   "source": [
    "# Classification Reports\n",
    "print(\"\\nClassification Report:\")\n",
    "print(classification_report(test_labels_all,\n",
    "      test_preds, target_names=label2id.keys(), digits=4))"
   ]
  },
  {
   "cell_type": "code",
   "execution_count": 17,
   "id": "a163c5cf",
   "metadata": {},
   "outputs": [
    {
     "data": {
      "image/png": "[encoded data removed]",
      "text/plain": [
       "<Figure size 640x480 with 2 Axes>"
      ]
     },
     "metadata": {},
     "output_type": "display_data"
    }
   ],
   "source": [
    "# Confusion Matrix\n",
    "cm = confusion_matrix(test_labels_all, test_preds)\n",
    "disp = ConfusionMatrixDisplay(\n",
    "    confusion_matrix=cm, display_labels=label2id.keys())\n",
    "disp.plot(cmap=plt.cm.Blues)\n",
    "plt.title(\"Confusion Matrix\")\n",
    "plt.show()"
   ]
  }
 ],
 "metadata": {
  "kernelspec": {
   "display_name": "skripsi",
   "language": "python",
   "name": "python3"
  },
  "language_info": {
   "codemirror_mode": {
    "name": "ipython",
    "version": 3
   },
   "file_extension": ".py",
   "mimetype": "text/x-python",
   "name": "python",
   "nbconvert_exporter": "python",
   "pygments_lexer": "ipython3",
   "version": "3.12.11"
  }
 },
 "nbformat": 4,
 "nbformat_minor": 5
}
